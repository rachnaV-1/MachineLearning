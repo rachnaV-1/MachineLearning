{
 "cells": [
  {
   "cell_type": "markdown",
   "metadata": {},
   "source": [
    "Write a function to compute 5/0 and use try/except to catch the exceptions."
   ]
  },
  {
   "cell_type": "code",
   "execution_count": 3,
   "metadata": {},
   "outputs": [
    {
     "name": "stdout",
     "output_type": "stream",
     "text": [
      "Enter the dividend:5\n",
      "Enter the divisor:2\n",
      "Trying to divide 5 by 2\n",
      "Quotient is: 2.5\n",
      "Trying to divide 5 by 0\n",
      "Cannot divide by zero\n",
      "Quotient for division by zero: None\n"
     ]
    }
   ],
   "source": [
    "def divide(*args):\n",
    "    try:\n",
    "        print(\"Trying to divide {0} by {1}\".format(args[0],args[1]))\n",
    "        return (args[0]/args[1])\n",
    "    except ZeroDivisionError:\n",
    "        print(\"Cannot divide by zero\")\n",
    "    \n",
    "n1=int(input(\"Enter the dividend:\"))\n",
    "n2=int(input(\"Enter the divisor:\"))\n",
    "n3=divide(n1,n2)\n",
    "print(\"Quotient is:\",n3)\n",
    "n3=divide(n1,0)\n",
    "print(\"Quotient for division by zero:\",n3)"
   ]
  },
  {
   "cell_type": "markdown",
   "metadata": {},
   "source": [
    "Implement a Python program to generate all sentences where subject is in [\"Americans\",\n",
    "\"Indians\"] and verb is in [\"Play\", \"watch\"] and the object is in [\"Baseball\",\"cricket\"]."
   ]
  },
  {
   "cell_type": "code",
   "execution_count": 4,
   "metadata": {},
   "outputs": [
    {
     "name": "stdout",
     "output_type": "stream",
     "text": [
      "Americans play Baseball\n",
      "Americans play cricket\n",
      "Americans watch Baseball\n",
      "Americans watch cricket\n",
      "Indians play Baseball\n",
      "Indians play cricket\n",
      "Indians watch Baseball\n",
      "Indians watch cricket\n"
     ]
    }
   ],
   "source": [
    "Subject= [\"Americans\", \"Indians\"]\n",
    "Verb=[\"play\", \"watch\"]\n",
    "Object=[\"Baseball\",\"cricket\"]\n",
    "for i in Subject:\n",
    "    for j in Verb:\n",
    "        for k in Object:\n",
    "            print(i,j,k)"
   ]
  },
  {
   "cell_type": "code",
   "execution_count": null,
   "metadata": {},
   "outputs": [],
   "source": []
  }
 ],
 "metadata": {
  "kernelspec": {
   "display_name": "Python 3",
   "language": "python",
   "name": "python3"
  },
  "language_info": {
   "codemirror_mode": {
    "name": "ipython",
    "version": 3
   },
   "file_extension": ".py",
   "mimetype": "text/x-python",
   "name": "python",
   "nbconvert_exporter": "python",
   "pygments_lexer": "ipython3",
   "version": "3.7.3"
  }
 },
 "nbformat": 4,
 "nbformat_minor": 2
}
