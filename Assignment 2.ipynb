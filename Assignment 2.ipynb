{
 "cells": [
  {
   "cell_type": "markdown",
   "metadata": {},
   "source": [
    "Write a Python Program to implement your own myreduce() function which works exactly like\n",
    "Python's built-in function reduce()\n"
   ]
  },
  {
   "cell_type": "markdown",
   "metadata": {},
   "source": [
    "# Method 1:"
   ]
  },
  {
   "cell_type": "code",
   "execution_count": 17,
   "metadata": {},
   "outputs": [],
   "source": [
    "def myreduce(func,seq):\n",
    "    if func.startswith('lambda'):\n",
    "        body=func[func.find(':')+1:]\n",
    "        if body[1]=='+':\n",
    "            return summation(seq)\n",
    "        elif body[1]=='*':\n",
    "            return product(seq)\n",
    "            \n",
    "def summation(seq):\n",
    "    total=0\n",
    "    for i in seq:\n",
    "        total+=i\n",
    "    return total\n",
    "\n",
    "def product(seq):\n",
    "    mult=1\n",
    "    for i in seq:\n",
    "        mult*=i\n",
    "    return mult"
   ]
  },
  {
   "cell_type": "code",
   "execution_count": 19,
   "metadata": {},
   "outputs": [
    {
     "data": {
      "text/plain": [
       "15"
      ]
     },
     "execution_count": 19,
     "metadata": {},
     "output_type": "execute_result"
    }
   ],
   "source": [
    "lst=[1,2,3,4,5]\n",
    "result=myreduce('lambda a,b:a+b',lst)\n",
    "result"
   ]
  },
  {
   "cell_type": "markdown",
   "metadata": {},
   "source": [
    "# Method 2"
   ]
  },
  {
   "cell_type": "code",
   "execution_count": 21,
   "metadata": {},
   "outputs": [
    {
     "name": "stdout",
     "output_type": "stream",
     "text": [
      "55\n",
      "3628800\n",
      "10\n",
      "1\n"
     ]
    }
   ],
   "source": [
    "Sum=lambda a,b:a+b\n",
    "Prod=lambda a,b:a*b\n",
    "Max=lambda a,b:a if (a > b) else b\n",
    "Min=lambda a,b:a if (a<b) else b\n",
    "\n",
    "def my_reduce(func,seq):\n",
    "    result=seq[0]\n",
    "    for i in range(1,len(seq)):\n",
    "        result=func(result,seq[i])\n",
    "    return result\n",
    "lst=[1,2,3,4,5,6,7,8,9,10]\n",
    "print(my_reduce(Sum,lst))\n",
    "print(my_reduce(Prod,lst))\n",
    "print(my_reduce(Max,lst))\n",
    "print(my_reduce(Min,lst))"
   ]
  },
  {
   "cell_type": "markdown",
   "metadata": {},
   "source": [
    "Write a Python program to implement your own myfilter() function which works exactly like\n",
    "Python's built-in function filter()\n"
   ]
  },
  {
   "cell_type": "code",
   "execution_count": 35,
   "metadata": {},
   "outputs": [
    {
     "name": "stdout",
     "output_type": "stream",
     "text": [
      "Even numbers: [2, 4, 6, 8, 10]\n",
      "Odd numbers: [1, 3, 5, 7, 9]\n",
      "Vowels: ['a', 'u', 'a']\n"
     ]
    }
   ],
   "source": [
    "Even = lambda x: x%2==0\n",
    "Odd = lambda x: x%2!=0\n",
    "Vowel = lambda x: x in ['a','e','i','o','u']\n",
    "\n",
    "def my_filter(func,seq):\n",
    "    result=[]\n",
    "    for i in range(len(seq)):\n",
    "        if func(seq[i])==True:\n",
    "            result.append(seq[i])\n",
    "#             print(result)\n",
    "    return result\n",
    "\n",
    "numbers=[1,2,3,4,5,6,7,8,9,10]\n",
    "alpha=['a','n','u','s','h','k','a']\n",
    "\n",
    "print(\"Even numbers:\",my_filter(Even,numbers))\n",
    "print(\"Odd numbers:\",my_filter(Odd,numbers))\n",
    "print(\"Vowels:\",my_filter(Vowel,alpha))"
   ]
  },
  {
   "cell_type": "markdown",
   "metadata": {},
   "source": [
    "Write List comprehensions to produce the following Lists\n",
    "['A', 'C', 'A', 'D', 'G', 'I', ’L’, ‘ D’]\n",
    "['x', 'xx', 'xxx', 'xxxx', 'y', 'yy', 'yyy', 'yyyy', 'z', 'zz', 'zzz', 'zzzz']\n",
    "['x', 'y', 'z', 'xx', 'yy', 'zz', 'xx', 'yy', 'zz', 'xxxx', 'yyyy', 'zzzz']\n",
    "[[2], [3], [4], [3], [4], [5], [4], [5], [6]]\n",
    "[[2, 3, 4, 5], [3, 4, 5, 6], [4, 5, 6, 7], [5, 6, 7, 8]]\n",
    "[(1, 1), (2, 1), (3, 1), (1, 2), (2, 2), (3, 2), (1, 3), (2, 3), (3, 3)]"
   ]
  },
  {
   "cell_type": "code",
   "execution_count": 55,
   "metadata": {},
   "outputs": [
    {
     "name": "stdout",
     "output_type": "stream",
     "text": [
      "['A', 'C', 'A', 'D', 'G', 'I', 'L', 'D']\n",
      "['x', 'xx', 'xxx', 'xxxx', 'y', 'yy', 'yyy', 'yyyy', 'z', 'zz', 'zzz', 'zzzz']\n",
      "['x', 'y', 'z', 'xx', 'yy', 'zz', 'xx', 'yy', 'zz', 'xxxx', 'yyyy', 'zzzz']\n",
      "[[2], [3], [4], [3], [4], [5], [4], [5], [6]]\n",
      "[[2, 3, 4, 5], [3, 4, 5, 6], [4, 5, 6, 7], [5, 6, 7, 8]]\n",
      "[(1, 1), (2, 1), (3, 1), (1, 2), (2, 2), (3, 2), (1, 3), (2, 3), (3, 3)]\n",
      "['x', 'y', 'z', 'xx', 'yy', 'zz', 'xxx', 'yyy', 'zzz', 'xxxx', 'yyyy', 'zzzz']\n"
     ]
    }
   ],
   "source": [
    "lst1=list(x for x in 'ACADGILD')\n",
    "print(lst1)\n",
    "lst2= [a*b for a in ['x','y','z'] for b in range(1,5)]\n",
    "print(lst2)\n",
    "lst3=[a*b for a in [1,2,2,4] for b in ['x','y','z']]\n",
    "print(lst3)\n",
    "lst4=[[a+b] for a in [2,3,4] for b in range(3)]\n",
    "print(lst4)\n",
    "lst5=[[a+b for a in [2,3,4,5]] for b in range(4)]\n",
    "print(lst5)\n",
    "lst6=[(b,a) for a in [1,2,3] for b in [1,2,3]]\n",
    "print(lst6)\n",
    "lst7=[a*b for a in range(1,5) for b in ['x','y','z']]\n",
    "print(lst7)"
   ]
  },
  {
   "cell_type": "markdown",
   "metadata": {},
   "source": [
    "Implement a function longestWord() that takes a list of words and returns the longest one."
   ]
  },
  {
   "cell_type": "code",
   "execution_count": 63,
   "metadata": {},
   "outputs": [
    {
     "name": "stdout",
     "output_type": "stream",
     "text": [
      "List of words:\n",
      " ['Cat', 'Cart', 'Mat', 'Fortress']\n",
      "Longest word: Fortress\n",
      "New list:\n",
      " ['Cat', 'Cart', 'Education', 'Mat', 'Fortress']\n",
      "Longest word: Education\n"
     ]
    }
   ],
   "source": [
    "def longestWord(args):\n",
    "    lengthList=list(len(a) for a in args)\n",
    "    i=1\n",
    "    longest=0\n",
    "    while i<=(len(args)-1):\n",
    "        if len(args[i])>len(args[longest]):\n",
    "            longest=i\n",
    "        i+=1\n",
    "    return args[longest]\n",
    "lst=['Cat','Cart','Mat','Fortress']\n",
    "print(\"List of words:\\n\",lst)\n",
    "print(\"Longest word:\",longestWord(lst))\n",
    "lst.insert(2,'Education')\n",
    "print(\"New list:\\n\",lst)\n",
    "print(\"Longest word:\",longestWord(lst))"
   ]
  },
  {
   "cell_type": "markdown",
   "metadata": {},
   "source": [
    "Write a Python Program(with class concepts) to find the area of the triangle using the below\n",
    "formula.\n",
    "area = (s*(s-a)*(s-b)*(s-c)) ** 0.5\n",
    "Function to take the length of the sides of triangle from user should be defined in the parent\n",
    "class and function to calculate the area should be defined in subclass"
   ]
  },
  {
   "cell_type": "code",
   "execution_count": 97,
   "metadata": {},
   "outputs": [
    {
     "name": "stdout",
     "output_type": "stream",
     "text": [
      "enter side1:2\n",
      "Enter side2:3\n",
      "Enter side3:4\n",
      "2.9047375096555625\n"
     ]
    }
   ],
   "source": [
    "import math\n",
    "class parent:\n",
    "    \n",
    "    def inputSides(self):\n",
    "        a=float(input('enter side1:'))\n",
    "        b=float(input('Enter side2:'))\n",
    "        c=float(input('Enter side3:'))\n",
    "        return [a,b,c]\n",
    "    \n",
    "class derived(parent):\n",
    "    def area(self):\n",
    "        sides=super().inputSides()\n",
    "        a=sides[0]\n",
    "        b=sides[1]\n",
    "        c=sides[2]\n",
    "        s=(a+b+c)/2\n",
    "        ar=math.sqrt(s*(s-a)*(s-b)*(s-c))\n",
    "        return ar\n",
    "    \n",
    "tri= derived()\n",
    "print(tri.area())\n",
    "    \n"
   ]
  },
  {
   "cell_type": "markdown",
   "metadata": {},
   "source": [
    "Write a function filter_long_words() that takes a list of words and an integer n and returns the list\n",
    "of words that are longer than n.\n"
   ]
  },
  {
   "cell_type": "code",
   "execution_count": 73,
   "metadata": {},
   "outputs": [
    {
     "name": "stdout",
     "output_type": "stream",
     "text": [
      "['Green', 'Red', 'Yellow', 'Maroon', 'Cyan', 'Pink']\n",
      "Words longer than 4 characters: ['Green', 'Yellow', 'Maroon']\n"
     ]
    }
   ],
   "source": [
    "def filter_long_words(lst,n):\n",
    "    long_words=[]\n",
    "    for w in lst:\n",
    "        if len(w)>n:\n",
    "            long_words.append(w)\n",
    "    return long_words\n",
    "\n",
    "lst=['Green','Red','Yellow','Maroon','Cyan','Pink']\n",
    "n=4\n",
    "print(lst)\n",
    "print('Words longer than {0} characters: {1}'.format(n,filter_long_words(lst,n)))"
   ]
  },
  {
   "cell_type": "markdown",
   "metadata": {},
   "source": [
    "Write a Python program using function concept that maps list of words into a list of integers\n",
    "representing the lengths of the corresponding words"
   ]
  },
  {
   "cell_type": "code",
   "execution_count": 74,
   "metadata": {},
   "outputs": [
    {
     "name": "stdout",
     "output_type": "stream",
     "text": [
      "['Bat', 'Ball', 'Wicket', 'Wide', 'Cricket']\n",
      "lengths of words:\n",
      "[3, 4, 6, 4, 7]\n"
     ]
    }
   ],
   "source": [
    "def map_length(args):\n",
    "    lengths=[]\n",
    "    for a in args:\n",
    "        lengths.append(len(a))\n",
    "    return lengths\n",
    "\n",
    "lst=['Bat','Ball','Wicket','Wide','Cricket']\n",
    "print(lst)\n",
    "print('lengths of words:')\n",
    "print(map_length(lst))"
   ]
  },
  {
   "cell_type": "markdown",
   "metadata": {},
   "source": [
    "Write a Python function which takes a character (i.e. a string of length 1) and returns True if it is\n",
    "a vowel, False otherwise.\n"
   ]
  },
  {
   "cell_type": "code",
   "execution_count": 78,
   "metadata": {},
   "outputs": [
    {
     "name": "stdout",
     "output_type": "stream",
     "text": [
      "Enter a character:U\n",
      "Is U a vowel? True\n"
     ]
    }
   ],
   "source": [
    "def is_vowel(ch):\n",
    "    if ch.lower() in ['a','e','i','o','u']:\n",
    "        return True\n",
    "    else:\n",
    "        return False\n",
    "char=input('Enter a character:')\n",
    "print('Is {} a vowel? {}'.format(char,is_vowel(char)))"
   ]
  },
  {
   "cell_type": "code",
   "execution_count": null,
   "metadata": {},
   "outputs": [],
   "source": []
  }
 ],
 "metadata": {
  "kernelspec": {
   "display_name": "Python 3",
   "language": "python",
   "name": "python3"
  },
  "language_info": {
   "codemirror_mode": {
    "name": "ipython",
    "version": 3
   },
   "file_extension": ".py",
   "mimetype": "text/x-python",
   "name": "python",
   "nbconvert_exporter": "python",
   "pygments_lexer": "ipython3",
   "version": "3.7.3"
  }
 },
 "nbformat": 4,
 "nbformat_minor": 2
}
